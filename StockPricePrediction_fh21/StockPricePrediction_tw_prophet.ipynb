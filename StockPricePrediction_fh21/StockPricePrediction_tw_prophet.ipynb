{
 "cells": [
  {
   "cell_type": "markdown",
   "metadata": {},
   "source": [
    "# Objective\n",
    "* 20190213:\n",
    "    * Given prices for the last N days, we do prediction for the next N+H days, where H is the forecast horizon\n",
    "    * Instead of using last value method, we use prophet package to predict"
   ]
  },
  {
   "cell_type": "code",
   "execution_count": 4,
   "metadata": {},
   "outputs": [
    {
     "name": "stderr",
     "output_type": "stream",
     "text": [
      "Importing plotly failed. Interactive plots will not work.\n"
     ]
    },
    {
     "name": "stdout",
     "output_type": "stream",
     "text": [
      "No. of days in train+validation set = 1008\n"
     ]
    }
   ],
   "source": [
    "%matplotlib inline\n",
    "\n",
    "import math\n",
    "import matplotlib\n",
    "import multiprocessing\n",
    "import numpy as np\n",
    "import pandas as pd\n",
    "import pickle\n",
    "import seaborn as sns\n",
    "import time\n",
    "\n",
    "import warnings\n",
    "warnings.simplefilter(action='ignore', category=FutureWarning)\n",
    "\n",
    "from datetime import date, datetime, timedelta\n",
    "from fbprophet import Prophet\n",
    "from joblib import Parallel, delayed\n",
    "from matplotlib import pyplot as plt\n",
    "from pylab import rcParams\n",
    "from sklearn.metrics import mean_squared_error\n",
    "from tqdm import tqdm_notebook\n",
    "\n",
    "#### Input params ##################\n",
    "stk_path = \"./data/TWII.csv\"\n",
    "H = 21                          # Forecast horizon\n",
    "train_size = 252*3              # Use 3 years of data as train set. Note there are about 252 trading days in a year\n",
    "val_size = 252                  # Use 1 year of data as validation set\n",
    "changepoint_prior_scale_list = [0.05, 0.5, 1, 1.5, 2.5]     # for hyperparameter tuning\n",
    "fourier_order_list = [None, 2, 4, 6, 8, 10]                 # for hyperparameter tuning\n",
    "holidays_path = \"./data/holidays.csv\"                       # csv file containing holidays in the US\n",
    "window_list = [None, 0, 1, 2]                               # for hyperparameter tuning\n",
    "\n",
    "fontsize = 14\n",
    "ticklabelsize = 14\n",
    "####################################\n",
    "\n",
    "train_val_size = train_size + val_size # Size of train+validation set\n",
    "print(\"No. of days in train+validation set = \" + str(train_val_size))"
   ]
  },
  {
   "cell_type": "code",
   "execution_count": 5,
   "metadata": {
    "scrolled": true
   },
   "outputs": [
    {
     "name": "stdout",
     "output_type": "stream",
     "text": [
      "We will start forecasting on day 1009\n"
     ]
    }
   ],
   "source": [
    "print(\"We will start forecasting on day %d\" % (train_val_size+1))"
   ]
  },
  {
   "cell_type": "markdown",
   "metadata": {},
   "source": [
    "# Common functions"
   ]
  },
  {
   "cell_type": "code",
   "execution_count": 55,
   "metadata": {},
   "outputs": [],
   "source": [
    "def get_valid_nums(y_true, y_pred): \n",
    "    y_true_r = [] \n",
    "    y_pred_r = [] \n",
    "    idx = 0 \n",
    "    y_true = y_true.to_numpy() \n",
    "    y_pred = y_pred.to_numpy()\n",
    "    for i in range(0, len(y_true)):\n",
    "        if not (math.isnan(y_true[i]) or math.isnan(y_pred[idx])): \n",
    "            y_true_r.append(y_true[i])\n",
    "            y_pred_r.append(y_pred[idx])\n",
    "        idx += 1 \n",
    "    return y_true_r, y_pred_r    \n",
    "            \n",
    "\n",
    "\n",
    "def get_mape(y_true, y_pred): \n",
    "    \"\"\"\n",
    "    Compute mean absolute percentage error (MAPE)\n",
    "    \"\"\"    \n",
    "    y_true, y_pred = np.array(y_true), np.array(y_pred)\n",
    "    return np.mean(np.abs((y_true - y_pred) / y_true)) * 100\n",
    "\n",
    "def get_mae(a, b):\n",
    "    \"\"\"\n",
    "    Comp mean absolute error e_t = E[|a_t - b_t|]. a and b can be lists.\n",
    "    Returns a vector of len = len(a) = len(b)\n",
    "    \"\"\"\n",
    "    return np.mean(abs(np.array(a)-np.array(b)))\n",
    "\n",
    "def get_rmse(a, b):\n",
    "    \"\"\"\n",
    "    Comp RMSE. a and b can be lists.\n",
    "    Returns a scalar.\n",
    "    \"\"\"\n",
    "    return math.sqrt(np.mean((np.array(a)-np.array(b))**2))\n",
    "\n",
    "def get_preds_prophet(df, H, changepoint_prior_scale=0.05, fourier_order=None, holidays=None):\n",
    "    \"\"\"\n",
    "    Use Prophet to forecast for the next H timesteps, starting at df[len(df)]\n",
    "    Inputs\n",
    "        df: dataframe with headers 'ds' and 'y' (necessary for Prophet)\n",
    "        H : forecast horizon\n",
    "        changepoint_prior_scale : to detect changepoints in time series analysis trajectories\n",
    "        fourier_order           : determines how quickly seasonality can change\n",
    "        holidays                : dataframe containing holidays you will like to model. \n",
    "                                  Must have 'holiday' and 'ds' columns\n",
    "    Outputs\n",
    "        A list of predictions\n",
    "    \"\"\"\n",
    "    # Fit prophet model\n",
    "    if holidays is not None:\n",
    "        m = Prophet(changepoint_prior_scale=changepoint_prior_scale, holidays=holidays)\n",
    "    else:\n",
    "        m = Prophet(changepoint_prior_scale=changepoint_prior_scale)\n",
    "    if (fourier_order is not None) and (~np.isnan(fourier_order)): # add monthly seasonality\n",
    "        m.add_seasonality(name='monthly', period=21, fourier_order=int(fourier_order))\n",
    "\n",
    "    m.fit(df)\n",
    "    \n",
    "    # Make future dataframe\n",
    "    future = m.make_future_dataframe(periods=2*H)\n",
    "    \n",
    "    # Eliminate weekend from future dataframe\n",
    "    future['day'] = future['ds'].dt.weekday\n",
    "    future = future[future['day']<=4]\n",
    "    \n",
    "    # Predict\n",
    "    forecast = m.predict(future) # Note this prediction includes the original dates\n",
    "    forecast[['ds', 'yhat', 'yhat_lower', 'yhat_upper']]\n",
    "\n",
    "    return forecast['yhat'][len(df):len(df)+H]\n",
    "    \n",
    "def get_error_metrics(df, H, train_size, val_size, changepoint_prior_scale=0.05, fourier_order=None, holidays=None):\n",
    "    \"\"\"\n",
    "    Given a dataframe consisting of both train+validation, do predictions of forecast horizon H on the validation set, \n",
    "    at H/2 intervals.\n",
    "    Inputs\n",
    "        df                     : dataframe with headers 'ds' and 'y' (necessary for Prophet)\n",
    "        H                      : forecast horizon\n",
    "        train_size             : length of training set\n",
    "        val_size               : length of validation set. Note len(df) = train_size + val_size\n",
    "        changepoint_prior_scale: to detect changepoints in time series analysis trajectories\n",
    "        fourier_order          : determines how quickly seasonality can change\n",
    "        holidays               : dataframe containing holidays you will like to model. \n",
    "                                 Must have 'holiday' and 'ds' columns\n",
    "    Outputs\n",
    "        mean of rmse, mean of mape, mean of mae, dict of predictions\n",
    "    \"\"\"\n",
    "    assert len(df) == train_size + val_size\n",
    "    \n",
    "    # Predict using Prophet, and compute error metrics also\n",
    "    rmse = [] # root mean square error\n",
    "    mape = [] # mean absolute percentage error\n",
    "    mae = []  # mean absolute error\n",
    "    preds_dict = {}\n",
    "    \n",
    "    rmse_mean, mape_mean, mae_mean = get_preds_prophet_parallelized(df, H, changepoint_prior_scale, fourier_order, holidays)\n",
    "\n",
    "    return rmse_mean, mape_mean, mae_mean, _\n",
    "\n",
    "def hyperparam_tune_cp(df, H, train_size, val_size, changepoint_prior_scale_list):\n",
    "    \"\"\"\n",
    "    Hyperparameter tuning - changepoint\n",
    "    Inputs\n",
    "        df                     : dataframe with headers 'ds' and 'y' (necessary for Prophet)\n",
    "        H                      : forecast horizon\n",
    "        train_size             : length of training set\n",
    "        val_size               : length of validation set. Note len(df) = train_size + val_size\n",
    "        changepoint_prior_scale_list: list of changepoint_prior_scale values to try\n",
    "    Outputs\n",
    "        optimum hyperparameters\n",
    "    \"\"\"\n",
    "    rmse_mean_list = []\n",
    "    mape_mean_list = []\n",
    "    mae_mean_list = []\n",
    "    for changepoint_prior_scale in tqdm_notebook(changepoint_prior_scale_list):\n",
    "        print(\"changepoint_prior_scale = \" + str(changepoint_prior_scale))\n",
    "        rmse_mean, mape_mean, mae_mean, _ = get_error_metrics(df, H, train_size, val_size, changepoint_prior_scale)\n",
    "        rmse_mean_list.append(rmse_mean)\n",
    "        mape_mean_list.append(mape_mean)\n",
    "        mae_mean_list.append(mae_mean)\n",
    "    \n",
    "    # Create results dataframe\n",
    "    results = pd.DataFrame({'changepoint_prior_scale': changepoint_prior_scale_list,\n",
    "                            'rmse': rmse_mean_list,\n",
    "                            'mape(%)': mape_mean_list,\n",
    "                            'mae': mae_mean_list})\n",
    "    \n",
    "    # Return hyperparam corresponding to lowest error metric\n",
    "    return changepoint_prior_scale_list[np.argmin(rmse_mean_list)], results\n",
    "\n",
    "def hyperparam_tune_fo(df, H, train_size, val_size, fourier_order_list):\n",
    "    \"\"\"\n",
    "    Hyperparameter tuning - fourier order\n",
    "    Inputs\n",
    "        df                     : dataframe with headers 'ds' and 'y' (necessary for Prophet)\n",
    "        H                      : forecast horizon\n",
    "        train_size             : length of training set\n",
    "        val_size               : length of validation set. Note len(df) = train_size + val_size\n",
    "        fourier_order_list     : list of fourier_order values to try\n",
    "    Outputs\n",
    "        optimum hyperparameters\n",
    "    \"\"\"\n",
    "    rmse_mean_list = []\n",
    "    mape_mean_list = []\n",
    "    mae_mean_list = []\n",
    "    for fourier_order in tqdm_notebook(fourier_order_list):\n",
    "        print(\"fourier_order = \" + str(fourier_order))\n",
    "        rmse_mean, mape_mean, mae_mean, _ = get_error_metrics(df, H, train_size, val_size, 0.05, fourier_order)\n",
    "        rmse_mean_list.append(rmse_mean)\n",
    "        mape_mean_list.append(mape_mean)\n",
    "        mae_mean_list.append(mae_mean)\n",
    "        \n",
    "    # Create results dataframe\n",
    "    results = pd.DataFrame({'fourier_order': fourier_order_list,\n",
    "                            'rmse': rmse_mean_list,\n",
    "                            'mape(%)': mape_mean_list,\n",
    "                            'mae': mae_mean_list})\n",
    "        \n",
    "    # Return hyperparam corresponding to lowest error metric\n",
    "    return fourier_order_list[np.argmin(rmse_mean_list)], results\n",
    "\n",
    "def hyperparam_tune_wd(df, H, train_size, val_size, window_list, holidays):\n",
    "    \"\"\"\n",
    "    Hyperparameter tuning - upper and lower windows for holidays\n",
    "    Inputs\n",
    "        df                     : dataframe with headers 'ds' and 'y' (necessary for Prophet)\n",
    "        H                      : forecast horizon\n",
    "        train_size             : length of training set\n",
    "        val_size               : length of validation set. Note len(df) = train_size + val_size\n",
    "        window_list            : list of upper and lower window values to try\n",
    "        holidays               : dataframe containing holidays you will like to model. \n",
    "                                 Must have 'holiday' and 'ds' columns\n",
    "    Outputs\n",
    "        optimum hyperparameters\n",
    "    \"\"\"\n",
    "    rmse_mean_list = []\n",
    "    mape_mean_list = []\n",
    "    mae_mean_list = []\n",
    "    for window in tqdm_notebook(window_list):\n",
    "        print(\"window = \" + str(window))\n",
    "        \n",
    "        if window is None:\n",
    "            rmse_mean, mape_mean, mae_mean, _ = get_error_metrics(df=df, \n",
    "                                                                  H=H, \n",
    "                                                                  train_size=train_size, \n",
    "                                                                  val_size=val_size, \n",
    "                                                                  holidays=None)\n",
    "        else:\n",
    "            # Add lower_window and upper_window which extend the holiday out to \n",
    "            # [lower_window, upper_window] days around the date\n",
    "            holidays['lower_window'] = -window\n",
    "            holidays['upper_window'] = +window\n",
    "        \n",
    "            rmse_mean, mape_mean, mae_mean, _ = get_error_metrics(df=df, \n",
    "                                                                  H=H, \n",
    "                                                                  train_size=train_size, \n",
    "                                                                  val_size=val_size, \n",
    "                                                                  holidays=holidays)\n",
    "        rmse_mean_list.append(rmse_mean)\n",
    "        mape_mean_list.append(mape_mean)\n",
    "        mae_mean_list.append(mae_mean)\n",
    "        \n",
    "    # Create results dataframe\n",
    "    results = pd.DataFrame({'window': window_list,\n",
    "                            'rmse': rmse_mean_list,\n",
    "                            'mape(%)': mape_mean_list,\n",
    "                            'mae': mae_mean_list})\n",
    "        \n",
    "    # Return hyperparam corresponding to lowest error metric\n",
    "    return window_list[np.argmin(rmse_mean_list)], results\n",
    "\n",
    "def hyperparam_tune_cp_fo_wd(df, H, train_size, val_size, changepoint_prior_scale_list, \n",
    "                             fourier_order_list, window_list, holidays):\n",
    "    \"\"\"\n",
    "    Hyperparameter tuning - changepoint, fourier_order, holidays\n",
    "    Inputs\n",
    "        df                     : dataframe with headers 'ds' and 'y' (necessary for Prophet)\n",
    "        H                      : forecast horizon\n",
    "        train_size             : length of training set\n",
    "        val_size               : length of validation set. Note len(df) = train_size + val_size\n",
    "        changepoint_prior_scale_list: list of changepoint_prior_scale values to try\n",
    "        fourier_order_list          : list of fourier_order values to try\n",
    "        window_list                 : list of upper and lower window values to try\n",
    "        holidays                    : dataframe containing holidays you will like to model. \n",
    "                                      Must have 'holiday' and 'ds' columns\n",
    "    Outputs\n",
    "        optimum hyperparameters\n",
    "    \"\"\"\n",
    "    rmse_mean_list = []\n",
    "    mape_mean_list = []\n",
    "    mae_mean_list = []\n",
    "    cp_list = []\n",
    "    fo_list = []\n",
    "    wd_list = []\n",
    "    for changepoint_prior_scale in tqdm_notebook(changepoint_prior_scale_list):\n",
    "        for fourier_order in tqdm_notebook(fourier_order_list):\n",
    "            for window in tqdm_notebook(window_list):\n",
    "                \n",
    "                if window is None:\n",
    "                    rmse_mean, mape_mean, mae_mean, _ = get_error_metrics(df, \n",
    "                                                                          H, \n",
    "                                                                          train_size, \n",
    "                                                                          val_size, \n",
    "                                                                          changepoint_prior_scale, \n",
    "                                                                          fourier_order, \n",
    "                                                                          holidays=None)\n",
    "                else:\n",
    "                    # Add lower_window and upper_window which extend the holiday out to \n",
    "                    # [lower_window, upper_window] days around the date\n",
    "                    holidays['lower_window'] = -window\n",
    "                    holidays['upper_window'] = +window\n",
    "        \n",
    "                    rmse_mean, mape_mean, mae_mean, _ = get_error_metrics(df, \n",
    "                                                                          H, \n",
    "                                                                          train_size, \n",
    "                                                                          val_size, \n",
    "                                                                          changepoint_prior_scale, \n",
    "                                                                          fourier_order, \n",
    "                                                                          holidays)\n",
    "                rmse_mean_list.append(rmse_mean)\n",
    "                mape_mean_list.append(mape_mean)\n",
    "                mae_mean_list.append(mae_mean)\n",
    "                cp_list.append(changepoint_prior_scale)\n",
    "                fo_list.append(fourier_order)\n",
    "                wd_list.append(window)\n",
    "        \n",
    "    # Return hyperparam corresponding to lowest error metric\n",
    "    results = pd.DataFrame({'changepoint_prior_scale': cp_list, \n",
    "                            'fourier_order': fo_list,\n",
    "                            'window': wd_list,\n",
    "                            'rmse': rmse_mean_list,\n",
    "                            'mape(%)': mape_mean_list,\n",
    "                            'mae': mae_mean_list})\n",
    "    temp = results[results['rmse'] == results['rmse'].min()]\n",
    "    changepoint_prior_scale_opt = temp['changepoint_prior_scale'].values[0]\n",
    "    fourier_order_opt = temp['fourier_order'].values[0]\n",
    "    window_opt = temp['window'].values[0]\n",
    "    \n",
    "    return changepoint_prior_scale_opt, fourier_order_opt, window_opt, results\n",
    "\n"
   ]
  },
  {
   "cell_type": "code",
   "execution_count": 56,
   "metadata": {},
   "outputs": [],
   "source": [
    "def processInput(i, df, H, changepoint_prior_scale, fourier_order, holidays):\n",
    "    preds_list = get_preds_prophet(df[i-train_size:i], H, changepoint_prior_scale, fourier_order, holidays)\n",
    "    \n",
    "    # Compute error metrics\n",
    "    print(df[i:i+H]['y'], preds_list)\n",
    "    y_true_r, y_pred_r = get_valid_nums(df[i:i+H]['y'], preds_list)\n",
    "    rmse = get_rmse(y_true_r, y_pred_r)\n",
    "    mape = get_mape(y_true_r, y_pred_r)\n",
    "    mae = get_mae(y_true_r, y_pred_r)\n",
    "    \n",
    "    return (rmse, mape, mae, df[i:i+H]['y'], preds_list)\n",
    "\n",
    "def get_preds_prophet_parallelized(df, H, changepoint_prior_scale=0.05, fourier_order=None, holidays=None):\n",
    "    \"\"\"\n",
    "    This is a parallelized implementation of get_preds_prophet.\n",
    "    Given a dataframe consisting of both train+validation, do predictions of forecast horizon H on the validation set, \n",
    "    at H/2 intervals.\n",
    "    Inputs\n",
    "        df                     : dataframe with headers 'ds' and 'y' (necessary for Prophet)\n",
    "        H                      : forecast horizon\n",
    "        train_size             : length of training set\n",
    "        val_size               : length of validation set. Note len(df) = train_size + val_size\n",
    "        changepoint_prior_scale: to detect changepoints in time series analysis trajectories\n",
    "        fourier_order          : determines how quickly seasonality can change\n",
    "        holidays               : dataframe containing holidays you will like to model. \n",
    "                                 Must have 'holiday' and 'ds' columns\n",
    "    Outputs\n",
    "        mean of rmse, mean of mape, mean of mae, dict of predictions\n",
    "    \"\"\"\n",
    "    inputs = range(train_size, len(df)-H, int(H/2))\n",
    "\n",
    "    num_cores = multiprocessing.cpu_count()\n",
    "\n",
    "    results = Parallel(n_jobs=num_cores)(delayed(processInput)(i, df, H, changepoint_prior_scale, fourier_order, holidays) for i in inputs)\n",
    "    # results has format [(rmse1, mape1, mae1), (rmse2, mape2, mae2), ...]\n",
    "\n",
    "    rmse = [errors[0] for errors in results]\n",
    "    mape = [errors[1] for errors in results]\n",
    "    mae = [errors[2] for errors in results]\n",
    "\n",
    "    print(\"rmse, mape, mae\")\n",
    "    print(rmse, mape, mae)\n",
    "    \n",
    "    return np.mean(rmse), np.mean(mape), np.mean(mae)"
   ]
  },
  {
   "cell_type": "markdown",
   "metadata": {},
   "source": [
    "# Load data"
   ]
  },
  {
   "cell_type": "code",
   "execution_count": 57,
   "metadata": {},
   "outputs": [
    {
     "name": "stdout",
     "output_type": "stream",
     "text": [
      "len(df) = 5782\n"
     ]
    },
    {
     "data": {
      "text/html": [
       "<div>\n",
       "<style scoped>\n",
       "    .dataframe tbody tr th:only-of-type {\n",
       "        vertical-align: middle;\n",
       "    }\n",
       "\n",
       "    .dataframe tbody tr th {\n",
       "        vertical-align: top;\n",
       "    }\n",
       "\n",
       "    .dataframe thead th {\n",
       "        text-align: right;\n",
       "    }\n",
       "</style>\n",
       "<table border=\"1\" class=\"dataframe\">\n",
       "  <thead>\n",
       "    <tr style=\"text-align: right;\">\n",
       "      <th></th>\n",
       "      <th>date</th>\n",
       "      <th>open</th>\n",
       "      <th>high</th>\n",
       "      <th>low</th>\n",
       "      <th>close</th>\n",
       "      <th>adj_close</th>\n",
       "      <th>volume</th>\n",
       "    </tr>\n",
       "  </thead>\n",
       "  <tbody>\n",
       "    <tr>\n",
       "      <th>0</th>\n",
       "      <td>1997-07-02</td>\n",
       "      <td>9094.269531</td>\n",
       "      <td>9124.299805</td>\n",
       "      <td>8988.129883</td>\n",
       "      <td>8996.719727</td>\n",
       "      <td>8996.686523</td>\n",
       "      <td>0.0</td>\n",
       "    </tr>\n",
       "    <tr>\n",
       "      <th>1</th>\n",
       "      <td>1997-07-03</td>\n",
       "      <td>9061.599609</td>\n",
       "      <td>9061.599609</td>\n",
       "      <td>8997.509766</td>\n",
       "      <td>9027.629883</td>\n",
       "      <td>9027.596680</td>\n",
       "      <td>0.0</td>\n",
       "    </tr>\n",
       "    <tr>\n",
       "      <th>2</th>\n",
       "      <td>1997-07-04</td>\n",
       "      <td>9144.959961</td>\n",
       "      <td>9218.209961</td>\n",
       "      <td>9119.250000</td>\n",
       "      <td>9192.570313</td>\n",
       "      <td>9192.536133</td>\n",
       "      <td>0.0</td>\n",
       "    </tr>\n",
       "    <tr>\n",
       "      <th>3</th>\n",
       "      <td>1997-07-07</td>\n",
       "      <td>9365.190430</td>\n",
       "      <td>9370.410156</td>\n",
       "      <td>9304.820313</td>\n",
       "      <td>9322.839844</td>\n",
       "      <td>9322.805664</td>\n",
       "      <td>0.0</td>\n",
       "    </tr>\n",
       "    <tr>\n",
       "      <th>4</th>\n",
       "      <td>1997-07-08</td>\n",
       "      <td>9345.549805</td>\n",
       "      <td>9371.500000</td>\n",
       "      <td>9282.099609</td>\n",
       "      <td>9305.269531</td>\n",
       "      <td>9305.235352</td>\n",
       "      <td>0.0</td>\n",
       "    </tr>\n",
       "    <tr>\n",
       "      <th>5</th>\n",
       "      <td>1997-07-09</td>\n",
       "      <td>9391.280273</td>\n",
       "      <td>9415.580078</td>\n",
       "      <td>9343.299805</td>\n",
       "      <td>9362.679688</td>\n",
       "      <td>9362.645508</td>\n",
       "      <td>0.0</td>\n",
       "    </tr>\n",
       "    <tr>\n",
       "      <th>6</th>\n",
       "      <td>1997-07-10</td>\n",
       "      <td>9470.929688</td>\n",
       "      <td>9511.799805</td>\n",
       "      <td>9420.709961</td>\n",
       "      <td>9429.740234</td>\n",
       "      <td>9429.706055</td>\n",
       "      <td>0.0</td>\n",
       "    </tr>\n",
       "    <tr>\n",
       "      <th>7</th>\n",
       "      <td>1997-07-11</td>\n",
       "      <td>9498.070313</td>\n",
       "      <td>9526.740234</td>\n",
       "      <td>9333.790039</td>\n",
       "      <td>9394.629883</td>\n",
       "      <td>9394.595703</td>\n",
       "      <td>0.0</td>\n",
       "    </tr>\n",
       "    <tr>\n",
       "      <th>8</th>\n",
       "      <td>1997-07-14</td>\n",
       "      <td>9626.339844</td>\n",
       "      <td>9626.339844</td>\n",
       "      <td>9561.080078</td>\n",
       "      <td>9593.540039</td>\n",
       "      <td>9593.503906</td>\n",
       "      <td>0.0</td>\n",
       "    </tr>\n",
       "    <tr>\n",
       "      <th>9</th>\n",
       "      <td>1997-07-15</td>\n",
       "      <td>9714.780273</td>\n",
       "      <td>9714.780273</td>\n",
       "      <td>9451.450195</td>\n",
       "      <td>9555.980469</td>\n",
       "      <td>9555.945313</td>\n",
       "      <td>0.0</td>\n",
       "    </tr>\n",
       "  </tbody>\n",
       "</table>\n",
       "</div>"
      ],
      "text/plain": [
       "        date         open         high          low        close    adj_close  \\\n",
       "0 1997-07-02  9094.269531  9124.299805  8988.129883  8996.719727  8996.686523   \n",
       "1 1997-07-03  9061.599609  9061.599609  8997.509766  9027.629883  9027.596680   \n",
       "2 1997-07-04  9144.959961  9218.209961  9119.250000  9192.570313  9192.536133   \n",
       "3 1997-07-07  9365.190430  9370.410156  9304.820313  9322.839844  9322.805664   \n",
       "4 1997-07-08  9345.549805  9371.500000  9282.099609  9305.269531  9305.235352   \n",
       "5 1997-07-09  9391.280273  9415.580078  9343.299805  9362.679688  9362.645508   \n",
       "6 1997-07-10  9470.929688  9511.799805  9420.709961  9429.740234  9429.706055   \n",
       "7 1997-07-11  9498.070313  9526.740234  9333.790039  9394.629883  9394.595703   \n",
       "8 1997-07-14  9626.339844  9626.339844  9561.080078  9593.540039  9593.503906   \n",
       "9 1997-07-15  9714.780273  9714.780273  9451.450195  9555.980469  9555.945313   \n",
       "\n",
       "   volume  \n",
       "0     0.0  \n",
       "1     0.0  \n",
       "2     0.0  \n",
       "3     0.0  \n",
       "4     0.0  \n",
       "5     0.0  \n",
       "6     0.0  \n",
       "7     0.0  \n",
       "8     0.0  \n",
       "9     0.0  "
      ]
     },
     "execution_count": 57,
     "metadata": {},
     "output_type": "execute_result"
    }
   ],
   "source": [
    "df = pd.read_csv(stk_path, sep = \",\")\n",
    "\n",
    "# Convert Date column to datetime\n",
    "df.loc[:, 'Date'] = pd.to_datetime(df['Date'],format='%Y-%m-%d')\n",
    "\n",
    "# Change all column headings to be lower case, and remove spacing\n",
    "df.columns = [str(x).lower().replace(' ', '_') for x in df.columns]\n",
    "\n",
    "# Sort by datetime\n",
    "df.sort_values(by='date', inplace=True, ascending=True)\n",
    "\n",
    "# Get size of dataframe\n",
    "print(\"len(df) = \" + str(len(df)))\n",
    "\n",
    "df.head(10)"
   ]
  },
  {
   "cell_type": "code",
   "execution_count": 58,
   "metadata": {},
   "outputs": [
    {
     "data": {
      "text/plain": [
       "(Timestamp('1997-07-02 00:00:00'), Timestamp('2020-06-19 00:00:00'))"
      ]
     },
     "execution_count": 58,
     "metadata": {},
     "output_type": "execute_result"
    }
   ],
   "source": [
    "df['date'].min(), df['date'].max() "
   ]
  },
  {
   "cell_type": "code",
   "execution_count": 59,
   "metadata": {},
   "outputs": [
    {
     "data": {
      "text/plain": [
       "Text(0, 0.5, 'USD')"
      ]
     },
     "execution_count": 59,
     "metadata": {},
     "output_type": "execute_result"
    },
    {
     "data": {
      "image/png": "[encoded data removed]",
      "text/plain": [
       "<Figure size 720x576 with 1 Axes>"
      ]
     },
     "metadata": {
      "needs_background": "light"
     },
     "output_type": "display_data"
    }
   ],
   "source": [
    "# Plot adjusted close over time\n",
    "rcParams['figure.figsize'] = 10, 8 # width 10, height 8\n",
    "\n",
    "ax = df.plot(x='date', y='adj_close', style='b-', grid=True)\n",
    "ax.set_xlabel(\"date\")\n",
    "ax.set_ylabel(\"USD\")"
   ]
  },
  {
   "cell_type": "code",
   "execution_count": 60,
   "metadata": {
    "scrolled": true
   },
   "outputs": [
    {
     "data": {
      "text/html": [
       "<div>\n",
       "<style scoped>\n",
       "    .dataframe tbody tr th:only-of-type {\n",
       "        vertical-align: middle;\n",
       "    }\n",
       "\n",
       "    .dataframe tbody tr th {\n",
       "        vertical-align: top;\n",
       "    }\n",
       "\n",
       "    .dataframe thead th {\n",
       "        text-align: right;\n",
       "    }\n",
       "</style>\n",
       "<table border=\"1\" class=\"dataframe\">\n",
       "  <thead>\n",
       "    <tr style=\"text-align: right;\">\n",
       "      <th></th>\n",
       "      <th>ds</th>\n",
       "      <th>y</th>\n",
       "    </tr>\n",
       "  </thead>\n",
       "  <tbody>\n",
       "    <tr>\n",
       "      <th>0</th>\n",
       "      <td>1997-07-02</td>\n",
       "      <td>8996.686523</td>\n",
       "    </tr>\n",
       "    <tr>\n",
       "      <th>1</th>\n",
       "      <td>1997-07-03</td>\n",
       "      <td>9027.596680</td>\n",
       "    </tr>\n",
       "    <tr>\n",
       "      <th>2</th>\n",
       "      <td>1997-07-04</td>\n",
       "      <td>9192.536133</td>\n",
       "    </tr>\n",
       "    <tr>\n",
       "      <th>3</th>\n",
       "      <td>1997-07-07</td>\n",
       "      <td>9322.805664</td>\n",
       "    </tr>\n",
       "    <tr>\n",
       "      <th>4</th>\n",
       "      <td>1997-07-08</td>\n",
       "      <td>9305.235352</td>\n",
       "    </tr>\n",
       "  </tbody>\n",
       "</table>\n",
       "</div>"
      ],
      "text/plain": [
       "          ds            y\n",
       "0 1997-07-02  8996.686523\n",
       "1 1997-07-03  9027.596680\n",
       "2 1997-07-04  9192.536133\n",
       "3 1997-07-07  9322.805664\n",
       "4 1997-07-08  9305.235352"
      ]
     },
     "execution_count": 60,
     "metadata": {},
     "output_type": "execute_result"
    }
   ],
   "source": [
    "# Prepare dataframe for Prophet\n",
    "df_prophet = df[['date', 'adj_close']].rename(columns={'date':'ds', 'adj_close':'y'})\n",
    "df_prophet.head()"
   ]
  },
  {
   "cell_type": "markdown",
   "metadata": {},
   "source": [
    "# Predict for a specific H (forecast horizon) and a specific date"
   ]
  },
  {
   "cell_type": "code",
   "execution_count": 61,
   "metadata": {},
   "outputs": [
    {
     "name": "stdout",
     "output_type": "stream",
     "text": [
      "Predicting on day 1008, date 2001-05-14 00:00:00, with forecast horizon H = 21\n"
     ]
    }
   ],
   "source": [
    "i = train_val_size # Predict for day i, for the next H-1 days. Note indexing of days start from 0.\n",
    "print(\"Predicting on day %d, date %s, with forecast horizon H = %d\" % (i, df_prophet.iloc[i]['ds'], H))"
   ]
  },
  {
   "cell_type": "code",
   "execution_count": 62,
   "metadata": {
    "scrolled": true
   },
   "outputs": [
    {
     "name": "stderr",
     "output_type": "stream",
     "text": [
      "INFO:fbprophet:Disabling daily seasonality. Run prophet with daily_seasonality=True to override this.\n"
     ]
    },
    {
     "data": {
      "text/plain": [
       "<fbprophet.forecaster.Prophet at 0x1382b50f0>"
      ]
     },
     "execution_count": 62,
     "metadata": {},
     "output_type": "execute_result"
    }
   ],
   "source": [
    "# Fit prophet model\n",
    "m = Prophet()\n",
    "m.fit(df_prophet[i-train_val_size:i])"
   ]
  },
  {
   "cell_type": "code",
   "execution_count": 63,
   "metadata": {},
   "outputs": [],
   "source": [
    "# Create dataframe with the dates we want to predict\n",
    "future = m.make_future_dataframe(periods=2*H)"
   ]
  },
  {
   "cell_type": "markdown",
   "metadata": {},
   "source": [
    "According to https://facebook.github.io/prophet/docs/non-daily_data.html, since we do not have weekend data, we should eliminate it from the future dataframe before doing predictions."
   ]
  },
  {
   "cell_type": "code",
   "execution_count": 64,
   "metadata": {},
   "outputs": [
    {
     "data": {
      "text/html": [
       "<div>\n",
       "<style scoped>\n",
       "    .dataframe tbody tr th:only-of-type {\n",
       "        vertical-align: middle;\n",
       "    }\n",
       "\n",
       "    .dataframe tbody tr th {\n",
       "        vertical-align: top;\n",
       "    }\n",
       "\n",
       "    .dataframe thead th {\n",
       "        text-align: right;\n",
       "    }\n",
       "</style>\n",
       "<table border=\"1\" class=\"dataframe\">\n",
       "  <thead>\n",
       "    <tr style=\"text-align: right;\">\n",
       "      <th></th>\n",
       "      <th>ds</th>\n",
       "      <th>yhat</th>\n",
       "      <th>yhat_lower</th>\n",
       "      <th>yhat_upper</th>\n",
       "    </tr>\n",
       "  </thead>\n",
       "  <tbody>\n",
       "    <tr>\n",
       "      <th>1033</th>\n",
       "      <td>2001-06-18</td>\n",
       "      <td>4653.276506</td>\n",
       "      <td>4177.762536</td>\n",
       "      <td>5074.841520</td>\n",
       "    </tr>\n",
       "    <tr>\n",
       "      <th>1034</th>\n",
       "      <td>2001-06-19</td>\n",
       "      <td>4629.714112</td>\n",
       "      <td>4157.082813</td>\n",
       "      <td>5131.494968</td>\n",
       "    </tr>\n",
       "    <tr>\n",
       "      <th>1035</th>\n",
       "      <td>2001-06-20</td>\n",
       "      <td>4626.258880</td>\n",
       "      <td>4172.504411</td>\n",
       "      <td>5098.504805</td>\n",
       "    </tr>\n",
       "    <tr>\n",
       "      <th>1036</th>\n",
       "      <td>2001-06-21</td>\n",
       "      <td>4620.207836</td>\n",
       "      <td>4151.242445</td>\n",
       "      <td>5086.782136</td>\n",
       "    </tr>\n",
       "    <tr>\n",
       "      <th>1037</th>\n",
       "      <td>2001-06-22</td>\n",
       "      <td>4615.739873</td>\n",
       "      <td>4113.772349</td>\n",
       "      <td>5104.895873</td>\n",
       "    </tr>\n",
       "  </tbody>\n",
       "</table>\n",
       "</div>"
      ],
      "text/plain": [
       "             ds         yhat   yhat_lower   yhat_upper\n",
       "1033 2001-06-18  4653.276506  4177.762536  5074.841520\n",
       "1034 2001-06-19  4629.714112  4157.082813  5131.494968\n",
       "1035 2001-06-20  4626.258880  4172.504411  5098.504805\n",
       "1036 2001-06-21  4620.207836  4151.242445  5086.782136\n",
       "1037 2001-06-22  4615.739873  4113.772349  5104.895873"
      ]
     },
     "execution_count": 64,
     "metadata": {},
     "output_type": "execute_result"
    }
   ],
   "source": [
    "# Eliminate weekend from future dataframe\n",
    "future['day'] = future['ds'].dt.weekday\n",
    "future = future[future['day']<=4]\n",
    "\n",
    "# Predict\n",
    "forecast = m.predict(future)\n",
    "forecast[['ds', 'yhat', 'yhat_lower', 'yhat_upper']].tail()"
   ]
  },
  {
   "cell_type": "code",
   "execution_count": 65,
   "metadata": {},
   "outputs": [
    {
     "data": {
      "image/png": "[encoded data removed]",
      "text/plain": [
       "<Figure size 720x432 with 1 Axes>"
      ]
     },
     "metadata": {},
     "output_type": "display_data"
    }
   ],
   "source": [
    "# Plot\n",
    "m.plot(forecast);"
   ]
  },
  {
   "cell_type": "code",
   "execution_count": 66,
   "metadata": {},
   "outputs": [
    {
     "data": {
      "image/png": "[encoded data removed]",
      "text/plain": [
       "<Figure size 648x648 with 3 Axes>"
      ]
     },
     "metadata": {},
     "output_type": "display_data"
    }
   ],
   "source": [
    "# Plot components\n",
    "m.plot_components(forecast);"
   ]
  },
  {
   "cell_type": "code",
   "execution_count": 67,
   "metadata": {
    "scrolled": true
   },
   "outputs": [
    {
     "name": "stdout",
     "output_type": "stream",
     "text": [
      "For forecast horizon 21, predicting on day 1008, date 2001-05-14 00:00:00, the RMSE is 364.257606\n",
      "For forecast horizon 21, predicting on day 1008, date 2001-05-14 00:00:00, the mean MAPE is 6.601796\n",
      "For forecast horizon 21, predicting on day 1008, date 2001-05-14 00:00:00, the mean MAE is 339.139616\n"
     ]
    }
   ],
   "source": [
    "# Compute error metrics\n",
    "preds_list = forecast['yhat'][train_val_size:train_val_size+H]\n",
    "get_valid_nums(df_prophet[i:i+H]['y'], preds_list)\n",
    "print(\"For forecast horizon %d, predicting on day %d, date %s, the RMSE is %f\" % (H, i, df['date'][i], get_rmse(df_prophet[i:i+H]['y'], preds_list)))\n",
    "print(\"For forecast horizon %d, predicting on day %d, date %s, the mean MAPE is %f\" % (H, i, df['date'][i], get_mape(df_prophet[i:i+H]['y'], preds_list)))\n",
    "print(\"For forecast horizon %d, predicting on day %d, date %s, the mean MAE is %f\" % (H, i, df['date'][i], get_mae(df_prophet[i:i+H]['y'], preds_list)))"
   ]
  },
  {
   "cell_type": "code",
   "execution_count": 68,
   "metadata": {},
   "outputs": [
    {
     "data": {
      "text/plain": [
       "(730606.0, 730650.0)"
      ]
     },
     "execution_count": 68,
     "metadata": {},
     "output_type": "execute_result"
    },
    {
     "data": {
      "image/png": "[encoded data removed]",
      "text/plain": [
       "<Figure size 720x576 with 1 Axes>"
      ]
     },
     "metadata": {
      "needs_background": "light"
     },
     "output_type": "display_data"
    }
   ],
   "source": [
    "# Plot the predictions\n",
    "rcParams['figure.figsize'] = 10, 8 # width 10, height 8\n",
    "matplotlib.rcParams.update({'font.size': 14})\n",
    "\n",
    "ax = df.plot(x='date', y='adj_close', style='bx-', grid=True)\n",
    "\n",
    "# Plot the predictions\n",
    "ax.plot(df['date'][i:i+H], preds_list, marker='x')\n",
    "    \n",
    "ax.set_xlabel(\"date\")\n",
    "ax.set_ylabel(\"USD\")\n",
    "ax.legend(['adj_close', 'predictions'])\n",
    "ax.set_ylim([1000, 6000])\n",
    "ax.set_xlim([date(2001, 5, 1), date(2001, 6, 14)])"
   ]
  },
  {
   "cell_type": "markdown",
   "metadata": {},
   "source": [
    "# Predict for a specific H (forecast horizon) and a specific date, with hyperparameter tuning - changepoint"
   ]
  },
  {
   "cell_type": "code",
   "execution_count": 69,
   "metadata": {},
   "outputs": [
    {
     "name": "stdout",
     "output_type": "stream",
     "text": [
      "Predicting on day 1008, date 2001-05-14 00:00:00, with forecast horizon H = 21\n"
     ]
    }
   ],
   "source": [
    "i = train_val_size # Predict for day i, for the next H-1 days. Note indexing of days start from 0.\n",
    "print(\"Predicting on day %d, date %s, with forecast horizon H = %d\" % (i, df_prophet.iloc[i]['ds'], H))"
   ]
  },
  {
   "cell_type": "code",
   "execution_count": 70,
   "metadata": {},
   "outputs": [
    {
     "data": {
      "text/html": [
       "<div>\n",
       "<style scoped>\n",
       "    .dataframe tbody tr th:only-of-type {\n",
       "        vertical-align: middle;\n",
       "    }\n",
       "\n",
       "    .dataframe tbody tr th {\n",
       "        vertical-align: top;\n",
       "    }\n",
       "\n",
       "    .dataframe thead th {\n",
       "        text-align: right;\n",
       "    }\n",
       "</style>\n",
       "<table border=\"1\" class=\"dataframe\">\n",
       "  <thead>\n",
       "    <tr style=\"text-align: right;\">\n",
       "      <th></th>\n",
       "      <th>ds</th>\n",
       "      <th>y</th>\n",
       "    </tr>\n",
       "  </thead>\n",
       "  <tbody>\n",
       "    <tr>\n",
       "      <th>0</th>\n",
       "      <td>1997-07-02</td>\n",
       "      <td>8996.686523</td>\n",
       "    </tr>\n",
       "    <tr>\n",
       "      <th>1</th>\n",
       "      <td>1997-07-03</td>\n",
       "      <td>9027.596680</td>\n",
       "    </tr>\n",
       "    <tr>\n",
       "      <th>2</th>\n",
       "      <td>1997-07-04</td>\n",
       "      <td>9192.536133</td>\n",
       "    </tr>\n",
       "    <tr>\n",
       "      <th>3</th>\n",
       "      <td>1997-07-07</td>\n",
       "      <td>9322.805664</td>\n",
       "    </tr>\n",
       "    <tr>\n",
       "      <th>4</th>\n",
       "      <td>1997-07-08</td>\n",
       "      <td>9305.235352</td>\n",
       "    </tr>\n",
       "    <tr>\n",
       "      <th>...</th>\n",
       "      <td>...</td>\n",
       "      <td>...</td>\n",
       "    </tr>\n",
       "    <tr>\n",
       "      <th>1003</th>\n",
       "      <td>2001-05-07</td>\n",
       "      <td>5229.910645</td>\n",
       "    </tr>\n",
       "    <tr>\n",
       "      <th>1004</th>\n",
       "      <td>2001-05-08</td>\n",
       "      <td>5176.690430</td>\n",
       "    </tr>\n",
       "    <tr>\n",
       "      <th>1005</th>\n",
       "      <td>2001-05-09</td>\n",
       "      <td>5232.620605</td>\n",
       "    </tr>\n",
       "    <tr>\n",
       "      <th>1006</th>\n",
       "      <td>2001-05-10</td>\n",
       "      <td>5122.150391</td>\n",
       "    </tr>\n",
       "    <tr>\n",
       "      <th>1007</th>\n",
       "      <td>2001-05-11</td>\n",
       "      <td>5232.700684</td>\n",
       "    </tr>\n",
       "  </tbody>\n",
       "</table>\n",
       "<p>1008 rows × 2 columns</p>\n",
       "</div>"
      ],
      "text/plain": [
       "             ds            y\n",
       "0    1997-07-02  8996.686523\n",
       "1    1997-07-03  9027.596680\n",
       "2    1997-07-04  9192.536133\n",
       "3    1997-07-07  9322.805664\n",
       "4    1997-07-08  9305.235352\n",
       "...         ...          ...\n",
       "1003 2001-05-07  5229.910645\n",
       "1004 2001-05-08  5176.690430\n",
       "1005 2001-05-09  5232.620605\n",
       "1006 2001-05-10  5122.150391\n",
       "1007 2001-05-11  5232.700684\n",
       "\n",
       "[1008 rows x 2 columns]"
      ]
     },
     "execution_count": 70,
     "metadata": {},
     "output_type": "execute_result"
    }
   ],
   "source": [
    "df_prophet[i-train_val_size:i]"
   ]
  },
  {
   "cell_type": "code",
   "execution_count": 71,
   "metadata": {},
   "outputs": [
    {
     "name": "stderr",
     "output_type": "stream",
     "text": [
      "/Users/yianchen/workspace/Stocks/venv/lib/python3.7/site-packages/ipykernel_launcher.py:116: TqdmDeprecationWarning: This function will be removed in tqdm==5.0.0\n",
      "Please use `tqdm.notebook.tqdm` instead of `tqdm.tqdm_notebook`\n"
     ]
    },
    {
     "data": {
      "application/vnd.jupyter.widget-view+json": {
       "model_id": "6a8f3a7577ad4f8cafb46e2405f53724",
       "version_major": 2,
       "version_minor": 0
      },
      "text/plain": [
       "HBox(children=(FloatProgress(value=0.0, max=5.0), HTML(value='')))"
      ]
     },
     "metadata": {},
     "output_type": "display_data"
    },
    {
     "name": "stdout",
     "output_type": "stream",
     "text": [
      "changepoint_prior_scale = 0.05\n",
      "rmse, mape, mae\n",
      "[348.99567435990286, 567.997551744459, 707.6508579059927, 371.0398903939188, 135.5305861140976, 307.4076696661467, 263.0376071586621, 552.11535626895, 945.9700520093044, 1278.6527838337413, 972.6601604234135, 660.6163085094628, 616.0606217415726, 477.82444483284735, 366.4097732010051, 314.1041143071548, 790.2449872065486, 975.1500311048359, 636.4797933629458, 519.0072462185918, 585.2840041604396, 317.1404472443451, 324.93571851648295, 248.87273204365556] [3.2887810492370635, 5.584814650801144, 7.965008606173404, 3.986784209598239, 1.4529653433542025, 3.1427650735829147, 3.0161171083003544, 6.894821899169997, 13.967705960698689, 21.176926572892683, 16.55502013606689, 10.585760717291867, 10.646871085053974, 8.901752275984604, 6.523445973981796, 4.891882775270867, 11.947343339706945, 16.396475791013792, 10.674281365118302, 8.072906720951972, 9.763015855859043, 5.248971707394476, 5.084359299364546, 4.166943913329828] [286.58271875035354, 470.36715205039536, 658.700558166626, 323.6960139073801, 115.44907487061842, 252.85010779266025, 234.5899999001852, 475.6752295969889, 884.509691295744, 1224.519423104632, 932.1168153990051, 571.3072681929906, 558.8845037771401, 462.84009522638945, 319.18626968576405, 256.2931595303043, 678.4516212049253, 964.7589947828351, 627.3339684736367, 462.04162440452654, 557.2636198711119, 294.5074320865225, 278.8671566669049, 226.27929746832675]\n",
      "changepoint_prior_scale = 0.5\n",
      "rmse, mape, mae\n",
      "[576.463455621786, 854.3088788509234, 830.4904472393096, 542.6276455863872, 141.6151270551978, 283.89261761495146, 328.63476611788184, 463.7887141679165, 786.2444222157839, 293.5067226083422, 500.9452020755581, 730.9072390235253, 408.81336332963093, 137.5517747132693, 342.19306437116006, 229.31374629016642, 759.2680389011324, 657.9422216865656, 205.47121624156668, 686.4339865618044, 312.6038164184951, 401.8598314196337, 513.1427615500044, 454.95349542965266] [5.648386933270451, 8.190964123038244, 9.446002407495493, 5.824975869674591, 1.464703745250827, 3.007533158061852, 3.7545130399610294, 6.0775644369536055, 11.648919281829384, 4.142173568732465, 7.147875760865436, 11.729138948984573, 6.615818324945873, 2.103406141361845, 5.902490629510114, 3.7307130202927308, 12.113580746168054, 10.95671182772827, 3.045703650543569, 11.513316641250178, 4.393092300937599, 5.479754311446831, 7.983808927739402, 7.553164882695327] [503.5607487060157, 687.8125849242448, 781.7487306891342, 474.4685397550801, 117.59705205402774, 241.48600560614076, 284.67862039560003, 423.5256928628123, 738.5553775939748, 237.42463117699353, 411.2059394057896, 668.3076808184136, 362.92799332948107, 109.42169835074318, 302.6574109320318, 190.47620998600974, 684.5841517244095, 645.4157416104989, 180.27037868419157, 655.2411625099569, 251.40688983318648, 302.2140576165742, 438.2413598567158, 406.60419622474626]\n",
      "changepoint_prior_scale = 1\n",
      "rmse, mape, mae\n",
      "[511.5927177878648, 1081.3917396274378, 778.2076716553289, 821.5841721591149, 196.8803158069168, 292.97312118879086, 340.1386105991845, 383.99184993107093, 757.2267724260762, 273.3736138067603, 739.0908251880961, 691.8977487708534, 315.56822453289067, 136.46100687879428, 282.9474489902647, 216.479850507541, 824.8775009852864, 547.6007370643116, 147.2186002798343, 706.219543248012, 560.7514076823659, 377.8363309455055, 482.5885575408502, 490.54328005729985] [4.792859287498928, 10.516644194852073, 8.745254479209635, 8.942459424402077, 2.1029706189970807, 3.1301721683599473, 3.886940218397086, 5.034620423488826, 11.18298408138099, 3.719621585770367, 10.209499618125196, 11.006117027639343, 5.002843320381294, 1.9853305860132668, 4.615912659272013, 3.5822447731427225, 13.193122238564728, 9.055001597824171, 2.056130921734003, 11.841525283897013, 8.440257546922467, 5.892344634474956, 7.724333806716317, 8.117583402666257] [427.80025168513185, 883.5476032164717, 723.5498031020184, 727.0067670934275, 168.79600132330845, 250.76921557120417, 294.21115180829844, 353.0839909234892, 708.515281364478, 214.59666806633177, 591.73730399994, 627.4692162901813, 267.97347694100256, 104.13059452948839, 237.8355064777964, 182.36758411547643, 745.3244630830028, 533.3749114217219, 121.89142098149314, 674.5455221251516, 483.4500593685805, 327.6679310958731, 426.2271322269955, 436.52780967067895]\n",
      "changepoint_prior_scale = 1.5\n",
      "rmse, mape, mae\n",
      "[419.1497615689653, 1467.4683662258685, 796.6577785444298, 934.5374911387952, 263.8423035789304, 295.7603093366377, 389.0366512239656, 385.9945105078307, 721.622546093394, 272.4136498375426, 879.3092909670302, 676.7273757772736, 407.6655264041521, 226.10153518382938, 323.6216886397075, 213.60022179720033, 842.7597754772854, 497.1791040517389, 141.55343245146815, 715.7091251409316, 643.0398294701737, 416.3855124043688, 518.580239826881, 521.1715897365118] [4.025998304326929, 14.574129887216051, 8.9839982822462, 10.246225801571915, 2.9784792010806163, 3.2220954777350514, 4.391747871624687, 5.076208100489314, 10.642959276784847, 3.6024985480535223, 12.057953236664964, 10.734337140339271, 6.957625062274237, 3.561828621630133, 5.57140870963871, 3.4339237213570377, 13.533323995003563, 8.160496245784268, 1.9532826798995886, 12.017566767145762, 9.72568959215969, 6.923491405766461, 8.027523897708091, 8.559528100857804] [358.90761030690084, 1226.3477540860254, 743.4128879804009, 832.6660096440067, 238.5382122969542, 257.4429847907412, 331.2299026551457, 356.83887274927145, 674.2023143178995, 209.67603073811011, 700.1525281599679, 611.3650231729056, 368.5884621710778, 186.85122456817612, 285.6133623798038, 176.51726321074435, 764.2470246775114, 480.72519844667175, 115.85375584592308, 684.3919816155685, 557.2495699133387, 387.39154311663094, 443.46010719980706, 459.63917807092565]\n",
      "changepoint_prior_scale = 2.5\n",
      "rmse, mape, mae\n",
      "[383.0492916162742, 1354.525922185613, 718.6097239295483, 993.4140681123176, 122.22354156620392, 336.10932791876706, 393.67260126688916, 440.16631866222326, 744.3224779123877, 293.6403622493696, 995.036281977925, 609.6551157500204, 631.1099324207771, 288.71122567374044, 346.6520346554195, 207.67288825829598, 874.3347784078579, 391.0960402972342, 140.64283597242948, 617.1848641620221, 710.4684743997072, 455.31722715173095, 787.1037480395925, 502.6378438470626] [3.7812106143683097, 13.478134864378818, 7.882718172494638, 10.900174095171236, 1.2957182883321876, 3.246991977996885, 4.436650557973689, 5.866817034664005, 11.042502099786928, 3.790777696750805, 13.87759212435728, 9.435608693692396, 10.842502879187489, 4.7535414597781545, 6.145120788935436, 3.3956796496112247, 14.06704974919488, 6.186051695321379, 2.0116490216399128, 9.945199208294136, 10.855041297878813, 7.518577543295947, 10.82016869869744, 8.18537452851624] [336.3736226241693, 1134.231228186816, 651.8745892934502, 885.474169217115, 103.85405837758519, 255.32754755084147, 334.5098421684441, 411.9992353915718, 700.5388964651495, 223.10600507294436, 805.7926854393363, 539.7080023413978, 570.0655571571804, 248.3586341232171, 313.9492888436186, 173.811079513813, 794.2043913614169, 364.51508097010696, 118.87803023818556, 567.222814874162, 621.9464075914009, 420.49613222175367, 598.8751424209479, 439.1233745023231]\n",
      "\n",
      "Time taken = 1.2091216524442037 mins\n",
      "changepoint_opt = 0.5\n"
     ]
    },
    {
     "data": {
      "text/html": [
       "<div>\n",
       "<style scoped>\n",
       "    .dataframe tbody tr th:only-of-type {\n",
       "        vertical-align: middle;\n",
       "    }\n",
       "\n",
       "    .dataframe tbody tr th {\n",
       "        vertical-align: top;\n",
       "    }\n",
       "\n",
       "    .dataframe thead th {\n",
       "        text-align: right;\n",
       "    }\n",
       "</style>\n",
       "<table border=\"1\" class=\"dataframe\">\n",
       "  <thead>\n",
       "    <tr style=\"text-align: right;\">\n",
       "      <th></th>\n",
       "      <th>changepoint_prior_scale</th>\n",
       "      <th>rmse</th>\n",
       "      <th>mape(%)</th>\n",
       "      <th>mae</th>\n",
       "    </tr>\n",
       "  </thead>\n",
       "  <tbody>\n",
       "    <tr>\n",
       "      <th>0</th>\n",
       "      <td>0.05</td>\n",
       "      <td>553.466184</td>\n",
       "      <td>8.330655</td>\n",
       "      <td>504.877992</td>\n",
       "    </tr>\n",
       "    <tr>\n",
       "      <th>1</th>\n",
       "      <td>0.50</td>\n",
       "      <td>476.790523</td>\n",
       "      <td>6.644763</td>\n",
       "      <td>420.826369</td>\n",
       "    </tr>\n",
       "    <tr>\n",
       "      <th>2</th>\n",
       "      <td>1.00</td>\n",
       "      <td>498.226735</td>\n",
       "      <td>6.865699</td>\n",
       "      <td>438.016653</td>\n",
       "    </tr>\n",
       "    <tr>\n",
       "      <th>3</th>\n",
       "      <td>1.50</td>\n",
       "      <td>540.411984</td>\n",
       "      <td>7.456763</td>\n",
       "      <td>477.137867</td>\n",
       "    </tr>\n",
       "    <tr>\n",
       "      <th>4</th>\n",
       "      <td>2.50</td>\n",
       "      <td>555.723205</td>\n",
       "      <td>7.656702</td>\n",
       "      <td>483.926492</td>\n",
       "    </tr>\n",
       "  </tbody>\n",
       "</table>\n",
       "</div>"
      ],
      "text/plain": [
       "   changepoint_prior_scale        rmse   mape(%)         mae\n",
       "0                     0.05  553.466184  8.330655  504.877992\n",
       "1                     0.50  476.790523  6.644763  420.826369\n",
       "2                     1.00  498.226735  6.865699  438.016653\n",
       "3                     1.50  540.411984  7.456763  477.137867\n",
       "4                     2.50  555.723205  7.656702  483.926492"
      ]
     },
     "execution_count": 71,
     "metadata": {},
     "output_type": "execute_result"
    }
   ],
   "source": [
    "# Get optimum hyperparams\n",
    "tic = time.time()\n",
    "changepoint_opt, results = hyperparam_tune_cp(df_prophet[i-train_val_size:i], \n",
    "                                              H, \n",
    "                                              train_size, \n",
    "                                              val_size, \n",
    "                                              changepoint_prior_scale_list)\n",
    "toc = time.time()\n",
    "print(\"Time taken = \" + str((toc-tic)/60.0) + \" mins\")\n",
    "\n",
    "print(\"changepoint_opt = \" + str(changepoint_opt))\n",
    "\n",
    "results"
   ]
  },
  {
   "cell_type": "code",
   "execution_count": 72,
   "metadata": {},
   "outputs": [
    {
     "name": "stderr",
     "output_type": "stream",
     "text": [
      "INFO:fbprophet:Disabling daily seasonality. Run prophet with daily_seasonality=True to override this.\n"
     ]
    },
    {
     "name": "stdout",
     "output_type": "stream",
     "text": [
      "For forecast horizon 21, predicting on day 1008, date 2001-05-14 00:00:00, the RMSE is 173.140988\n",
      "For forecast horizon 21, predicting on day 1008, date 2001-05-14 00:00:00, the mean MAPE is 2.728264\n",
      "For forecast horizon 21, predicting on day 1008, date 2001-05-14 00:00:00, the mean MAE is 140.681162\n"
     ]
    }
   ],
   "source": [
    "# Get predictions using tuned hyperparams\n",
    "preds_list = get_preds_prophet(df_prophet[i-train_val_size:i], H, changepoint_prior_scale=changepoint_opt)\n",
    "print(\"For forecast horizon %d, predicting on day %d, date %s, the RMSE is %f\" % (H, i, df['date'][i], get_rmse(df_prophet[i:i+H]['y'], preds_list)))\n",
    "print(\"For forecast horizon %d, predicting on day %d, date %s, the mean MAPE is %f\" % (H, i, df['date'][i], get_mape(df_prophet[i:i+H]['y'], preds_list)))\n",
    "print(\"For forecast horizon %d, predicting on day %d, date %s, the mean MAE is %f\" % (H, i, df['date'][i], get_mae(df_prophet[i:i+H]['y'], preds_list)))"
   ]
  },
  {
   "cell_type": "code",
   "execution_count": 75,
   "metadata": {},
   "outputs": [
    {
     "data": {
      "text/plain": [
       "(730606.0, 730640.0)"
      ]
     },
     "execution_count": 75,
     "metadata": {},
     "output_type": "execute_result"
    },
    {
     "data": {
      "image/png": "[encoded data removed]",
      "text/plain": [
       "<Figure size 720x576 with 1 Axes>"
      ]
     },
     "metadata": {
      "needs_background": "light"
     },
     "output_type": "display_data"
    }
   ],
   "source": [
    "# Plot the predictions\n",
    "rcParams['figure.figsize'] = 10, 8 # width 10, height 8\n",
    "\n",
    "ax = df.plot(x='date', y='adj_close', style='bx-', grid=True)\n",
    "\n",
    "# Plot the predictions\n",
    "ax.plot(df['date'][i:i+H], preds_list, marker='x')\n",
    "    \n",
    "ax.set_xlabel(\"date\")\n",
    "ax.set_ylabel(\"USD\")\n",
    "ax.legend(['adj_close', 'predictions'])\n",
    "ax.set_ylim([4000, 6000])\n",
    "ax.set_xlim([date(2001, 5, 1), date(2001, 6, 4)])"
   ]
  },
  {
   "cell_type": "markdown",
   "metadata": {},
   "source": [
    "With hyperparameter (changepoint_prior_scale) tuning, the predictions are more accurate"
   ]
  },
  {
   "cell_type": "markdown",
   "metadata": {},
   "source": [
    "# Predict for a specific H (forecast horizon) and a specific date, with hyperparameter tuning - monthly seasonality"
   ]
  },
  {
   "cell_type": "code",
   "execution_count": 76,
   "metadata": {},
   "outputs": [
    {
     "name": "stdout",
     "output_type": "stream",
     "text": [
      "Predicting on day 1008, date 2001-05-14 00:00:00, with forecast horizon H = 21\n"
     ]
    }
   ],
   "source": [
    "i = train_val_size # Predict for day i, for the next H-1 days. Note indexing of days start from 0.\n",
    "print(\"Predicting on day %d, date %s, with forecast horizon H = %d\" % (i, df_prophet.iloc[i]['ds'], H))"
   ]
  },
  {
   "cell_type": "code",
   "execution_count": 77,
   "metadata": {},
   "outputs": [
    {
     "name": "stderr",
     "output_type": "stream",
     "text": [
      "/Users/yianchen/workspace/Stocks/venv/lib/python3.7/site-packages/ipykernel_launcher.py:147: TqdmDeprecationWarning: This function will be removed in tqdm==5.0.0\n",
      "Please use `tqdm.notebook.tqdm` instead of `tqdm.tqdm_notebook`\n"
     ]
    },
    {
     "data": {
      "application/vnd.jupyter.widget-view+json": {
       "model_id": "9657aa3101a444f8af71c4b39cf36687",
       "version_major": 2,
       "version_minor": 0
      },
      "text/plain": [
       "HBox(children=(FloatProgress(value=0.0, max=6.0), HTML(value='')))"
      ]
     },
     "metadata": {},
     "output_type": "display_data"
    },
    {
     "name": "stdout",
     "output_type": "stream",
     "text": [
      "fourier_order = None\n",
      "rmse, mape, mae\n",
      "[348.99567435990286, 567.997551744459, 707.6508579059927, 371.0398903939188, 135.5305861140976, 307.4076696661467, 263.0376071586621, 552.11535626895, 945.9700520093044, 1278.6527838337413, 972.6601604234135, 660.6163085094628, 616.0606217415726, 477.82444483284735, 366.4097732010051, 314.1041143071548, 790.2449872065486, 975.1500311048359, 636.4797933629458, 519.0072462185918, 585.2840041604396, 317.1404472443451, 324.93571851648295, 248.87273204365556] [3.2887810492370635, 5.584814650801144, 7.965008606173404, 3.986784209598239, 1.4529653433542025, 3.1427650735829147, 3.0161171083003544, 6.894821899169997, 13.967705960698689, 21.176926572892683, 16.55502013606689, 10.585760717291867, 10.646871085053974, 8.901752275984604, 6.523445973981796, 4.891882775270867, 11.947343339706945, 16.396475791013792, 10.674281365118302, 8.072906720951972, 9.763015855859043, 5.248971707394476, 5.084359299364546, 4.166943913329828] [286.58271875035354, 470.36715205039536, 658.700558166626, 323.6960139073801, 115.44907487061842, 252.85010779266025, 234.5899999001852, 475.6752295969889, 884.509691295744, 1224.519423104632, 932.1168153990051, 571.3072681929906, 558.8845037771401, 462.84009522638945, 319.18626968576405, 256.2931595303043, 678.4516212049253, 964.7589947828351, 627.3339684736367, 462.04162440452654, 557.2636198711119, 294.5074320865225, 278.8671566669049, 226.27929746832675]\n",
      "fourier_order = 2\n",
      "rmse, mape, mae\n",
      "[316.2452278857689, 597.8761134804992, 712.7271198415325, 367.4463186790389, 147.63465385409845, 340.3999138279751, 268.1395711951837, 542.3595376871301, 956.5530607405399, 1285.6671928540839, 989.6878947071235, 658.954399218157, 617.8849276866512, 476.564435753092, 380.3980232399448, 313.7722246620266, 792.8600467165728, 971.7478586856074, 652.6044029996903, 540.0605170383227, 542.363719980325, 322.65527038412654, 330.5409546742857, 250.8475938763958] [2.938943614224749, 5.872421149506505, 8.053596837253407, 3.911627314203766, 1.588618009992622, 3.5265015051538886, 3.0271622303482006, 6.77226133508102, 14.12519012547128, 21.315950976297447, 16.883153254969358, 10.547034592636873, 10.742138535715611, 8.850173084077454, 6.782542457983142, 4.898149100927234, 12.011096073109986, 16.309911304934406, 10.940807365512232, 8.43699399541758, 8.989400778360832, 5.328344078415011, 5.140885945309348, 4.197460048236409] [256.0982831866616, 494.2421275509873, 666.1834155687534, 317.6190554290536, 126.09368360234116, 283.60926905167395, 236.74681256650197, 467.25544205721326, 894.5089740814686, 1232.985114833855, 951.0471935803349, 569.192759284495, 564.433949277436, 460.07758941439505, 331.9687728916366, 257.1947652677914, 681.9182433513134, 959.8978316606868, 642.9939800359905, 482.8226838020999, 513.2658072174081, 299.38301023032034, 281.9738434183265, 227.88293409019784]\n",
      "fourier_order = 4\n",
      "rmse, mape, mae\n",
      "[378.4871907639675, 588.5016218312213, 720.9492984613655, 357.57787887765704, 144.6022629156743, 306.9735919479604, 264.47409680733404, 508.68784874004695, 943.5275486708173, 1311.1402739837345, 960.6671998082832, 625.3722158007289, 618.7255905607439, 463.2940439578206, 360.5930013838097, 310.20801841689473, 785.6714275639467, 999.0602338359911, 661.6414855395496, 546.1317289439133, 529.3214478354118, 323.90428635685, 304.56090017405165, 236.99762227537053] [3.6361397181958486, 5.787527410763752, 8.156284104802754, 3.7823614560829757, 1.5715939895144055, 3.132684660299962, 3.0195642532808975, 6.329537472946564, 13.925881940624594, 21.754799959442526, 16.354260347913964, 9.817423612322099, 10.758625980574932, 8.591923046661726, 6.385897671286927, 4.846338902212357, 11.859216507533437, 16.779435925296625, 11.096801801727958, 8.539404736105833, 8.75575861361634, 5.3460231175445685, 4.793594708120496, 3.9902022738032548] [317.1067823069428, 487.21917342232416, 674.7311023361325, 307.04150744613605, 124.79146795539566, 252.04981420090175, 235.20418781964202, 436.65761834305306, 881.799891389886, 1258.653987932031, 920.9193942727112, 528.1999029616255, 565.314865605482, 446.3755918192609, 312.3618149344765, 253.901238335641, 673.5238951861849, 987.4783471464851, 652.1273847660117, 488.6258654524516, 499.9324772504825, 300.8353046674422, 263.07402543511284, 216.73583407550169]\n",
      "fourier_order = 6\n",
      "rmse, mape, mae\n",
      "[312.48412990674797, 594.8474349891966, 713.2144444825635, 404.70164865165737, 145.61900259314828, 374.5060416964684, 265.90844436384936, 554.9652347296291, 1007.5900369134811, 1281.3676389021878, 997.5909192988378, 667.8696788285321, 628.0454775515931, 469.41737197674405, 368.676609755724, 313.6013775038605, 765.2911960919687, 1004.728231713785, 686.6389797996344, 471.43861123959107, 529.6308457314769, 323.4314474914632, 326.87407140415166, 254.4165923685573] [2.895202935673812, 5.834508239911661, 8.056559695207168, 4.45766339578371, 1.5718084518702542, 3.965892791840971, 3.0234599238397784, 6.952854964503405, 14.924571468658307, 21.242444641093307, 17.037973365514596, 10.695547037981223, 10.922567011492031, 8.702707681502837, 6.537386280778695, 4.890347669681445, 11.551675338895413, 16.879757704759797, 11.53503389066477, 7.114179002633516, 8.76118156497368, 5.342634437569513, 5.082223088357204, 4.247739896183052] [252.28538840155232, 491.02842720048113, 666.4154887518654, 362.0356566332216, 124.78088170950971, 318.62794446329633, 236.01582339671944, 479.91756131880777, 945.7637643369277, 1228.6930949457142, 959.9703471340902, 577.2390856573847, 573.8794326413221, 452.3308777962965, 319.78788216383055, 256.2944712518969, 656.0609512876341, 993.3115172324784, 677.7239862322416, 407.20373513101936, 500.23640421870664, 300.87121295307963, 278.77702597234804, 230.56872447213468]\n",
      "fourier_order = 8\n",
      "rmse, mape, mae\n",
      "[333.4311905539421, 552.9642445029774, 708.9373715997025, 376.1835854119719, 151.104761556653, 308.04186804050624, 264.445024750144, 557.2551528602377, 1005.3519249134524, 1310.9704348810874, 980.6470778948046, 637.656217444627, 619.092426764029, 468.6623517323627, 414.12785442162374, 310.351477588895, 758.1922926343626, 992.0110997772738, 649.2774130861471, 555.4851030788665, 548.2665027909958, 323.36176178585197, 317.84314151467527, 251.74967912304365] [3.1246243407049774, 5.5181903698919905, 8.003359320908347, 4.045407004065576, 1.6202030932349731, 3.153545247632904, 3.0268579874541164, 6.980328919471949, 14.892337920202142, 21.75312278941982, 16.72273304959985, 10.066244363022204, 10.759176238013108, 8.692172441243532, 7.4846257161808385, 4.84878105204256, 11.354699595196251, 16.658985159736677, 10.879288330894532, 8.715027810847138, 9.098025674129838, 5.326492040040498, 4.965141792796015, 4.206805252541939] [272.3085796734869, 465.3481629600113, 661.9883019542661, 328.4654752458243, 128.5745035574449, 253.69519719323748, 235.70228841572685, 481.79647384270885, 943.7359532996536, 1258.581763353702, 941.9548934417911, 542.0510018953486, 565.3123004932984, 451.66364772860555, 366.86232308183025, 254.06994978760983, 645.3386910461853, 980.3948469300543, 639.4288080247874, 498.6571278796082, 519.4638634539897, 299.3260750721363, 272.40326462577053, 228.3609688718198]\n",
      "fourier_order = 10\n",
      "rmse, mape, mae\n",
      "[351.67906456034177, 607.8379420277975, 699.5809674376399, 342.14716249302, 143.78824257683956, 412.3960970300421, 264.1811717924443, 556.9725058698413, 957.7227833095476, 1275.0697243184338, 978.8248886623458, 642.6807494532712, 607.1323116450146, 453.70214798629974, 368.1857765087511, 310.36758505336286, 784.0285506774245, 1055.327192594516, 647.572081341351, 564.7079025282774, 674.2251157195903, 318.26193756310016, 334.67264105707306, 245.4707569717998] [3.3282977885098606, 5.942375042217905, 7.881712450740312, 3.5391606231154933, 1.56149008014882, 4.481079056441544, 3.0165689263262863, 6.981333808257355, 14.149137678529804, 21.134559127633185, 16.68812084204404, 10.173493651200893, 10.5437356349889, 8.389840563038495, 6.521518254284602, 4.847132573784373, 11.85334142768298, 17.741700284958085, 10.848214373220562, 8.881002946524225, 11.344683073662017, 5.092986204304299, 5.178417210323789, 4.10890654728369] [290.1129916438952, 499.8787512850064, 651.864717210585, 287.2947861344692, 124.0578697972336, 359.52575899799615, 235.23100779627552, 481.9098300259946, 896.1149520432697, 1222.3886943945454, 939.9711499099784, 548.0604798908826, 554.0062843755923, 435.99000829986335, 318.9791123906299, 254.02555811693136, 673.0904442603712, 1044.0118375855852, 637.6241069870239, 508.12810633051777, 647.7096650207262, 284.45510596515294, 284.0101528561684, 223.11091709956995]\n",
      "\n",
      "Time taken = 0.9645485480626425 mins\n",
      "fourier_order_opt = 4\n"
     ]
    },
    {
     "data": {
      "text/html": [
       "<div>\n",
       "<style scoped>\n",
       "    .dataframe tbody tr th:only-of-type {\n",
       "        vertical-align: middle;\n",
       "    }\n",
       "\n",
       "    .dataframe tbody tr th {\n",
       "        vertical-align: top;\n",
       "    }\n",
       "\n",
       "    .dataframe thead th {\n",
       "        text-align: right;\n",
       "    }\n",
       "</style>\n",
       "<table border=\"1\" class=\"dataframe\">\n",
       "  <thead>\n",
       "    <tr style=\"text-align: right;\">\n",
       "      <th></th>\n",
       "      <th>fourier_order</th>\n",
       "      <th>rmse</th>\n",
       "      <th>mape(%)</th>\n",
       "      <th>mae</th>\n",
       "    </tr>\n",
       "  </thead>\n",
       "  <tbody>\n",
       "    <tr>\n",
       "      <th>0</th>\n",
       "      <td>NaN</td>\n",
       "      <td>553.466184</td>\n",
       "      <td>8.330655</td>\n",
       "      <td>504.877992</td>\n",
       "    </tr>\n",
       "    <tr>\n",
       "      <th>1</th>\n",
       "      <td>2.0</td>\n",
       "      <td>557.332957</td>\n",
       "      <td>8.382932</td>\n",
       "      <td>508.308148</td>\n",
       "    </tr>\n",
       "    <tr>\n",
       "      <th>2</th>\n",
       "      <td>4.0</td>\n",
       "      <td>552.127951</td>\n",
       "      <td>8.292137</td>\n",
       "      <td>503.527561</td>\n",
       "    </tr>\n",
       "    <tr>\n",
       "      <th>3</th>\n",
       "      <td>6.0</td>\n",
       "      <td>560.952311</td>\n",
       "      <td>8.426080</td>\n",
       "      <td>512.075820</td>\n",
       "    </tr>\n",
       "    <tr>\n",
       "      <th>4</th>\n",
       "      <td>8.0</td>\n",
       "      <td>558.142082</td>\n",
       "      <td>8.412341</td>\n",
       "      <td>509.811853</td>\n",
       "    </tr>\n",
       "    <tr>\n",
       "      <th>5</th>\n",
       "      <td>10.0</td>\n",
       "      <td>566.522304</td>\n",
       "      <td>8.509534</td>\n",
       "      <td>516.731345</td>\n",
       "    </tr>\n",
       "  </tbody>\n",
       "</table>\n",
       "</div>"
      ],
      "text/plain": [
       "   fourier_order        rmse   mape(%)         mae\n",
       "0            NaN  553.466184  8.330655  504.877992\n",
       "1            2.0  557.332957  8.382932  508.308148\n",
       "2            4.0  552.127951  8.292137  503.527561\n",
       "3            6.0  560.952311  8.426080  512.075820\n",
       "4            8.0  558.142082  8.412341  509.811853\n",
       "5           10.0  566.522304  8.509534  516.731345"
      ]
     },
     "execution_count": 77,
     "metadata": {},
     "output_type": "execute_result"
    }
   ],
   "source": [
    "# Get optimum hyperparams\n",
    "tic = time.time()\n",
    "fourier_order_opt, results = hyperparam_tune_fo(df_prophet[i-train_val_size:i], \n",
    "                                                H, \n",
    "                                                train_size, \n",
    "                                                val_size, \n",
    "                                                fourier_order_list)\n",
    "toc = time.time()\n",
    "print(\"Time taken = \" + str((toc-tic)/60.0) + \" mins\")\n",
    "\n",
    "print(\"fourier_order_opt = \" + str(fourier_order_opt))\n",
    "\n",
    "results"
   ]
  },
  {
   "cell_type": "code",
   "execution_count": null,
   "metadata": {
    "scrolled": true
   },
   "outputs": [],
   "source": [
    "# Get predictions using tuned hyperparams\n",
    "preds_list = get_preds_prophet(df_prophet[i-train_val_size:i], H, fourier_order=fourier_order_opt)\n",
    "print(\"For forecast horizon %d, predicting on day %d, date %s, the RMSE is %f\" % (H, i, df['date'][i], get_rmse(df_prophet[i:i+H]['y'], preds_list)))\n",
    "print(\"For forecast horizon %d, predicting on day %d, date %s, the mean MAPE is %f\" % (H, i, df['date'][i], get_mape(df_prophet[i:i+H]['y'], preds_list)))\n",
    "print(\"For forecast horizon %d, predicting on day %d, date %s, the mean MAE is %f\" % (H, i, df['date'][i], get_mae(df_prophet[i:i+H]['y'], preds_list)))"
   ]
  },
  {
   "cell_type": "code",
   "execution_count": null,
   "metadata": {},
   "outputs": [],
   "source": [
    "# Plot the predictions\n",
    "rcParams['figure.figsize'] = 10, 8 # width 10, height 8\n",
    "\n",
    "ax = df.plot(x='date', y='adj_close', style='bx-', grid=True)\n",
    "\n",
    "# Plot the predictions\n",
    "ax.plot(df['date'][i:i+H], preds_list, marker='x')\n",
    "    \n",
    "ax.set_xlabel(\"date\")\n",
    "ax.set_ylabel(\"USD\")\n",
    "ax.legend(['adj_close', 'predictions'])\n",
    "ax.set_ylim([105, 120])\n",
    "ax.set_xlim([date(2016, 11, 1), date(2017, 2, 28)])"
   ]
  },
  {
   "cell_type": "markdown",
   "metadata": {},
   "source": [
    "# Predict for a specific H (forecast horizon) and a specific date, with hyperparameter tuning - holidays"
   ]
  },
  {
   "cell_type": "code",
   "execution_count": null,
   "metadata": {
    "scrolled": true
   },
   "outputs": [],
   "source": [
    "i = train_val_size # Predict for day i, for the next H-1 days. Note indexing of days start from 0.\n",
    "print(\"Predicting on day %d, date %s, with forecast horizon H = %d\" % (i, df_prophet.iloc[i]['ds'], H))"
   ]
  },
  {
   "cell_type": "code",
   "execution_count": null,
   "metadata": {},
   "outputs": [],
   "source": [
    "# Load holidays file\n",
    "hols = pd.read_csv(holidays_path, header=None, sep=\"\\t\", names=['ds', 'holiday'])\n",
    "\n",
    "# Convert Date column to datetime\n",
    "hols.loc[:, 'ds'] = pd.to_datetime(hols['ds'],format='%Y-%m-%d')\n",
    "\n",
    "# Add lower_window and upper_window which extend the holiday out to [lower_window, upper_window] days around the date\n",
    "hols['lower_window'] = 0\n",
    "hols['upper_window'] = 0\n",
    "\n",
    "hols.head()"
   ]
  },
  {
   "cell_type": "code",
   "execution_count": null,
   "metadata": {},
   "outputs": [],
   "source": [
    "# Get optimum hyperparams\n",
    "tic = time.time()\n",
    "window_opt, results = hyperparam_tune_wd(df_prophet[i-train_val_size:i], \n",
    "                                         H, \n",
    "                                         train_size, \n",
    "                                         val_size, \n",
    "                                         window_list,\n",
    "                                         hols)\n",
    "toc = time.time()\n",
    "print(\"Time taken = \" + str((toc-tic)/60.0) + \" mins\")\n",
    "\n",
    "print(\"window_opt = \" + str(window_opt))\n",
    "\n",
    "results"
   ]
  },
  {
   "cell_type": "code",
   "execution_count": null,
   "metadata": {},
   "outputs": [],
   "source": [
    "# Get predictions using tuned hyperparams\n",
    "if window_opt is None:\n",
    "    preds_list = get_preds_prophet(df_prophet[i-train_val_size:i], H, holidays=None)\n",
    "else:\n",
    "    hols['lower_window'] = -window_opt\n",
    "    hols['upper_window'] = +window_opt\n",
    "    preds_list = get_preds_prophet(df_prophet[i-train_val_size:i], H, holidays=hols)\n",
    "print(\"For forecast horizon %d, predicting on day %d, date %s, the RMSE is %f\" % (H, i, df['date'][i], get_rmse(df_prophet[i:i+H]['y'], preds_list)))\n",
    "print(\"For forecast horizon %d, predicting on day %d, date %s, the mean MAPE is %f\" % (H, i, df['date'][i], get_mape(df_prophet[i:i+H]['y'], preds_list)))\n",
    "print(\"For forecast horizon %d, predicting on day %d, date %s, the mean MAE is %f\" % (H, i, df['date'][i], get_mae(df_prophet[i:i+H]['y'], preds_list)))"
   ]
  },
  {
   "cell_type": "code",
   "execution_count": null,
   "metadata": {},
   "outputs": [],
   "source": [
    "# Plot the predictions\n",
    "rcParams['figure.figsize'] = 10, 8 # width 10, height 8\n",
    "\n",
    "ax = df.plot(x='date', y='adj_close', style='bx-', grid=True)\n",
    "\n",
    "# Plot the predictions\n",
    "ax.plot(df['date'][i:i+H], preds_list, marker='x')\n",
    "    \n",
    "ax.set_xlabel(\"date\")\n",
    "ax.set_ylabel(\"USD\")\n",
    "ax.legend(['adj_close', 'predictions'])\n",
    "ax.set_ylim([105, 120])\n",
    "ax.set_xlim([date(2016, 11, 1), date(2017, 2, 28)])"
   ]
  },
  {
   "cell_type": "markdown",
   "metadata": {},
   "source": [
    "# Predict for a specific H (forecast horizon) and a specific date, with hyperparameter tuning - changepoint, monthly seasonality, holidays"
   ]
  },
  {
   "cell_type": "code",
   "execution_count": null,
   "metadata": {},
   "outputs": [],
   "source": [
    "i = train_val_size # Predict for day i, for the next H-1 days. Note indexing of days start from 0.\n",
    "print(\"Predicting on day %d, date %s, with forecast horizon H = %d\" % (i, df_prophet.iloc[i]['ds'], H))"
   ]
  },
  {
   "cell_type": "code",
   "execution_count": null,
   "metadata": {},
   "outputs": [],
   "source": [
    "# Get optimum hyperparams\n",
    "tic = time.time()\n",
    "changepoint_prior_scale_opt, fourier_order_opt, window_opt, results = \\\n",
    "    hyperparam_tune_cp_fo_wd(df_prophet[i-train_val_size:i], \n",
    "                             H, \n",
    "                             train_size, \n",
    "                             val_size, \n",
    "                             changepoint_prior_scale_list,\n",
    "                             fourier_order_list,\n",
    "                             window_list,\n",
    "                             hols)\n",
    "toc = time.time()\n",
    "print(\"Time taken = \" + str((toc-tic)/60.0) + \" mins\")\n",
    "\n",
    "print(\"changepoint_prior_scale_opt = \" + str(changepoint_prior_scale_opt))\n",
    "print(\"fourier_order_opt = \" + str(fourier_order_opt))\n",
    "print(\"window_opt = \" + str(window_opt))\n",
    "results"
   ]
  },
  {
   "cell_type": "code",
   "execution_count": null,
   "metadata": {},
   "outputs": [],
   "source": [
    "# Print the tail of the results df\n",
    "results.tail()"
   ]
  },
  {
   "cell_type": "code",
   "execution_count": null,
   "metadata": {},
   "outputs": [],
   "source": [
    "# Get predictions using tuned hyperparams\n",
    "if (window_opt is None) or (np.isnan(window_opt)):\n",
    "    preds_list = get_preds_prophet(df_prophet[i-train_val_size:i], \n",
    "                                   H, \n",
    "                                   changepoint_prior_scale_opt, \n",
    "                                   fourier_order_opt, \n",
    "                                   holidays=None)\n",
    "else:\n",
    "    hols['lower_window'] = -window_opt\n",
    "    hols['upper_window'] = +window_opt\n",
    "    preds_list = get_preds_prophet(df_prophet[i-train_val_size:i], \n",
    "                                   H, \n",
    "                                   changepoint_prior_scale_opt, \n",
    "                                   fourier_order_opt, \n",
    "                                   holidays=hols)\n",
    "print(\"For forecast horizon %d, predicting on day %d, date %s, the RMSE is %f\" % (H, i, df['date'][i], get_rmse(df_prophet[i:i+H]['y'], preds_list)))\n",
    "print(\"For forecast horizon %d, predicting on day %d, date %s, the mean MAPE is %f\" % (H, i, df['date'][i], get_mape(df_prophet[i:i+H]['y'], preds_list)))\n",
    "print(\"For forecast horizon %d, predicting on day %d, date %s, the mean MAE is %f\" % (H, i, df['date'][i], get_mae(df_prophet[i:i+H]['y'], preds_list)))"
   ]
  },
  {
   "cell_type": "code",
   "execution_count": null,
   "metadata": {},
   "outputs": [],
   "source": [
    "# Plot the predictions\n",
    "rcParams['figure.figsize'] = 10, 8 # width 10, height 8\n",
    "\n",
    "ax = df.plot(x='date', y='adj_close', style='bx-', grid=True)\n",
    "\n",
    "# Plot the predictions\n",
    "ax.plot(df['date'][i:i+H], preds_list, marker='x')\n",
    "    \n",
    "ax.set_xlabel(\"date\")\n",
    "ax.set_ylabel(\"USD\")\n",
    "ax.legend(['adj_close', 'predictions'])\n",
    "ax.set_ylim([105, 120])\n",
    "ax.set_xlim([date(2016, 11, 1), date(2017, 2, 28)])"
   ]
  },
  {
   "cell_type": "markdown",
   "metadata": {},
   "source": [
    "# Predict for a specific H (forecast horizon), and various dates, using model trained in previous step"
   ]
  },
  {
   "cell_type": "code",
   "execution_count": null,
   "metadata": {},
   "outputs": [],
   "source": [
    "changepoint_prior_scale_opt = 2.5\n",
    "fourier_order_opt = 10\n",
    "window_opt = None"
   ]
  },
  {
   "cell_type": "code",
   "execution_count": null,
   "metadata": {},
   "outputs": [],
   "source": [
    "# Predict using Prophet, and compute error metrics also\n",
    "rmse = [] # root mean square error\n",
    "mape = [] # mean absolute percentage error\n",
    "mae = []  # mean absolute error\n",
    "preds_dict = {}\n",
    "H = 21 # We will test with this value of H and observe the results\n",
    "i_list = range(train_val_size, train_val_size+84*5+42+1, 42)\n",
    "for i in i_list:\n",
    "# for i in tqdm_notebook(range(train_val_size, len(df)-H, int(H/2))): # Do a forecast on day i\n",
    "    print(\"Predicting on day %d, date %s\" % (i, df_prophet['ds'][i]))\n",
    "    \n",
    "    # Get predictions using tuned hyperparams\n",
    "    if (window_opt is None) or (np.isnan(window_opt)):\n",
    "        preds_list = get_preds_prophet(df_prophet[i-train_val_size:i], \n",
    "                                       H, \n",
    "                                       changepoint_prior_scale_opt, \n",
    "                                       fourier_order_opt, \n",
    "                                       holidays=None)\n",
    "    else:\n",
    "        hols['lower_window'] = -window_opt\n",
    "        hols['upper_window'] = +window_opt\n",
    "        preds_list = get_preds_prophet(df_prophet[i-train_val_size:i], \n",
    "                                       H, \n",
    "                                       changepoint_prior_scale_opt, \n",
    "                                       fourier_order_opt, \n",
    "                                       holidays=hols)\n",
    "    \n",
    "    # Collect the predictions\n",
    "    preds_dict[i] = preds_list\n",
    "    \n",
    "    # Compute error metrics\n",
    "    rmse.append(get_rmse(df_prophet[i:i+H]['y'], preds_list))\n",
    "    mape.append(get_mape(df_prophet[i:i+H]['y'], preds_list))\n",
    "    mae.append(get_mae(df_prophet[i:i+H]['y'], preds_list))\n",
    "\n",
    "print(\"Altogether we made %d forecasts, each of length %d days\" % (len(rmse), H))"
   ]
  },
  {
   "cell_type": "code",
   "execution_count": null,
   "metadata": {},
   "outputs": [],
   "source": [
    "print(\"For forecast horizon %d, the mean RMSE is %f\" % (H, np.mean(rmse)))\n",
    "print(\"For forecast horizon %d, the mean MAPE is %f\" % (H, np.mean(mape)))\n",
    "print(\"For forecast horizon %d, the mean MAE is %f\" % (H, np.mean(mae)))"
   ]
  },
  {
   "cell_type": "code",
   "execution_count": null,
   "metadata": {},
   "outputs": [],
   "source": [
    "results_final_no_tune = pd.DataFrame({'day': i_list,\n",
    "                                      'changepoint_opt': [changepoint_prior_scale_opt]*len(i_list),\n",
    "                                      'fourier_order_opt': [fourier_order_opt]*len(i_list),\n",
    "                                      'window_opt': [window_opt]*len(i_list),\n",
    "                                      'rmse': rmse,\n",
    "                                      'mape': mape,\n",
    "                                      'mae': mae})\n",
    "results_final_no_tune"
   ]
  },
  {
   "cell_type": "code",
   "execution_count": null,
   "metadata": {},
   "outputs": [],
   "source": [
    "# Plot the predictions\n",
    "rcParams['figure.figsize'] = 10, 8 # width 10, height 8\n",
    "\n",
    "ax = df.plot(x='date', y='adj_close', style='b-', grid=True)\n",
    "\n",
    "# Plot the predictions\n",
    "for key in preds_dict:\n",
    "    ax.plot(df['date'][key:key+H], preds_dict[key])\n",
    "    \n",
    "ax.set_xlabel(\"date\")\n",
    "ax.set_ylabel(\"USD\")"
   ]
  },
  {
   "cell_type": "code",
   "execution_count": null,
   "metadata": {},
   "outputs": [],
   "source": [
    "# Plot the predictions, and zoom in\n",
    "rcParams['figure.figsize'] = 10, 8 # width 10, height 8\n",
    "\n",
    "ax = df.plot(x='date', y='adj_close', style='b-', grid=True)\n",
    "\n",
    "# Plot the predictions\n",
    "for key in preds_dict:\n",
    "    ax.plot(df['date'][key:key+H], preds_dict[key])\n",
    "    \n",
    "ax.set_xlabel(\"date\")\n",
    "ax.set_ylabel(\"USD\")\n",
    "ax.legend(['adj_close', 'predictions'])\n",
    "ax.set_ylim([105, 150])\n",
    "ax.set_xlim([date(2017, 1, 1), date(2018, 12, 31)])"
   ]
  },
  {
   "cell_type": "markdown",
   "metadata": {},
   "source": [
    "# Predict for a specific H (forecast horizon), and various dates, tuning model for every prediction"
   ]
  },
  {
   "cell_type": "code",
   "execution_count": null,
   "metadata": {},
   "outputs": [],
   "source": [
    "i_list = [train_val_size+294, train_val_size+378, train_val_size+462]\n",
    "for i in i_list:\n",
    "    print(\"Predicting on day %d, date %s, with forecast horizon H = %d\" % (i, df_prophet.iloc[i]['ds'], H))\n",
    "\n",
    "    # Predict using Prophet, and compute error metrics also\n",
    "    rmse = [] # root mean square error\n",
    "    mape = [] # mean absolute percentage error\n",
    "    mae = []  # mean absolute error\n",
    "    preds_dict = {}\n",
    "\n",
    "    tic = time.time()\n",
    "    \n",
    "    changepoint_prior_scale_opt, fourier_order_opt, window_opt, results = \\\n",
    "        hyperparam_tune_cp_fo_wd(df_prophet[i-train_val_size:i], \n",
    "                                 H, \n",
    "                                 train_size, \n",
    "                                 val_size, \n",
    "                                 changepoint_prior_scale_list,\n",
    "                                 fourier_order_list,\n",
    "                                 window_list,\n",
    "                                 hols)\n",
    "    \n",
    "    # Get predictions using tuned hyperparams\n",
    "    if (window_opt is None) or (np.isnan(window_opt)):\n",
    "        preds_list = get_preds_prophet(df_prophet[i-train_val_size:i], \n",
    "                                       H, \n",
    "                                       changepoint_prior_scale_opt, \n",
    "                                       fourier_order_opt, \n",
    "                                       holidays=None)\n",
    "    else:\n",
    "        hols['lower_window'] = -window_opt\n",
    "        hols['upper_window'] = +window_opt\n",
    "        preds_list = get_preds_prophet(df_prophet[i-train_val_size:i], \n",
    "                                       H, \n",
    "                                       changepoint_prior_scale_opt, \n",
    "                                       fourier_order_opt, \n",
    "                                       holidays=hols)\n",
    "    \n",
    "    # Compute error metrics\n",
    "    rmse = get_rmse(df_prophet[i:i+H]['y'], preds_list)\n",
    "    mape = get_mape(df_prophet[i:i+H]['y'], preds_list)\n",
    "    mae = get_mae(df_prophet[i:i+H]['y'], preds_list)\n",
    "\n",
    "    # Put results into pickle\n",
    "    pickle.dump(preds_list, open(\"./data/preds_list_\" + str(i) + \".pickle\", \"wb\"))\n",
    "    pickle.dump(rmse, open(\"./data/rmse_\" + str(i) + \".pickle\", \"wb\"))\n",
    "    pickle.dump(mape, open(\"./data/mape_\" + str(i) + \".pickle\", \"wb\"))\n",
    "    pickle.dump(mae, open(\"./data/mae_\" + str(i) + \".pickle\", \"wb\"))\n",
    "    pickle.dump(changepoint_prior_scale_opt, open(\"./data/changepoint_prior_scale_opt_\" + str(i) + \".pickle\", \"wb\"))\n",
    "    pickle.dump(fourier_order_opt, open(\"./data/fourier_order_opt_\" + str(i) + \".pickle\", \"wb\"))\n",
    "    pickle.dump(window_opt, open(\"./data/window_opt_\" + str(i) + \".pickle\", \"wb\"))\n",
    "    pickle.dump(results, open(\"./data/results_\" + str(i) + \".pickle\", \"wb\"))\n",
    "    \n",
    "    toc = time.time()\n",
    "    print(\"Time taken = \" + str((toc-tic)/60.0))"
   ]
  },
  {
   "cell_type": "code",
   "execution_count": null,
   "metadata": {},
   "outputs": [],
   "source": [
    "# Load pickle file\n",
    "i_list = range(train_val_size, train_val_size+84*5+42+1, 42)\n",
    "# i_list = [train_val_size, train_val_size+42, train_val_size+84, train_val_size+126, train_val_size+84*2, \n",
    "#           train_val_size+210, train_val_size+84*3, train_val_size+84*4, train_val_size+84*5]\n",
    "preds_dict = {}\n",
    "rmse, mape, mae, changepoint_prior_scale_opt, fourier_order_opt, window_opt = [], [], [], [], [], []\n",
    "\n",
    "for i in i_list:\n",
    "    preds_dict[i] = pickle.load(open( \"./data/preds_list_\" + str(i) + \".pickle\", \"rb\"))\n",
    "    rmse.append(pickle.load(open( \"./data/rmse_\" + str(i) + \".pickle\", \"rb\")))\n",
    "    mape.append(pickle.load(open( \"./data/mape_\" + str(i) + \".pickle\", \"rb\")))\n",
    "    mae.append(pickle.load(open( \"./data/mae_\" + str(i) + \".pickle\", \"rb\")))\n",
    "    changepoint_prior_scale_opt.append(pickle.load(open( \"./data/changepoint_prior_scale_opt_\" + str(i) + \".pickle\", \"rb\")))\n",
    "    fourier_order_opt.append(pickle.load(open( \"./data/fourier_order_opt_\" + str(i) + \".pickle\", \"rb\")))\n",
    "    window_opt.append(pickle.load(open( \"./data/window_opt_\" + str(i) + \".pickle\", \"rb\")))"
   ]
  },
  {
   "cell_type": "code",
   "execution_count": null,
   "metadata": {
    "scrolled": true
   },
   "outputs": [],
   "source": [
    "print(\"For forecast horizon %d, the mean RMSE is %f\" % (H, np.mean(rmse)))\n",
    "print(\"For forecast horizon %d, the mean MAPE is %f\" % (H, np.mean(mape)))\n",
    "print(\"For forecast horizon %d, the mean MAE is %f\" % (H, np.mean(mae)))"
   ]
  },
  {
   "cell_type": "code",
   "execution_count": null,
   "metadata": {},
   "outputs": [],
   "source": [
    "results_final = pd.DataFrame({'day': i_list,\n",
    "                              'changepoint_opt': changepoint_prior_scale_opt,\n",
    "                              'fourier_order_opt': fourier_order_opt,\n",
    "                              'window_opt': window_opt,\n",
    "                              'rmse': rmse,\n",
    "                              'mape': mape,\n",
    "                              'mae': mae})\n",
    "results_final"
   ]
  },
  {
   "cell_type": "code",
   "execution_count": null,
   "metadata": {},
   "outputs": [],
   "source": [
    "# Plot the predictions, and zoom in\n",
    "rcParams['figure.figsize'] = 10, 8 # width 10, height 8\n",
    "\n",
    "ax = df.plot(x='date', y='adj_close', style='b-', grid=True)\n",
    "\n",
    "# Plot the predictions\n",
    "for key in preds_dict:\n",
    "    ax.plot(df['date'][key:key+H], preds_dict[key])\n",
    "    \n",
    "ax.set_xlabel(\"date\")\n",
    "ax.set_ylabel(\"USD\")\n",
    "ax.set_ylim([105, 150])\n",
    "ax.set_xlim([date(2017, 1, 1), date(2018, 12, 31)])"
   ]
  },
  {
   "cell_type": "markdown",
   "metadata": {},
   "source": [
    "# Findings\n"
   ]
  },
  {
   "cell_type": "code",
   "execution_count": null,
   "metadata": {},
   "outputs": [],
   "source": [
    "# Consolidate results from hyperparameter tuning\n",
    "pd.set_option('display.max_colwidth', -1)  # or 199\n",
    "results = pd.DataFrame({'Method': ['Last Value', \n",
    "                                   'Prophet - no hyperparameter tuning', \n",
    "                                   'Prophet tuning changepoint', \n",
    "                                   'Prophet tuning fourier order', \n",
    "                                   'Prophet tuning window size', \n",
    "                                   'Prophet tuning changepoint, fourier order, and window size'],\n",
    "                        'RMSE'    : [2.56, 3.40, 0.64, 3.52, 3.40, 0.55],\n",
    "                        'MAPE(%)' : [1.65, 2.87, 0.52, 2.98, 2.87, 0.41],\n",
    "                        'MAE'     : [2.19, 3.25, 0.58, 3.37, 3.25, 0.47]                       \n",
    "                       })\n",
    "results"
   ]
  },
  {
   "cell_type": "code",
   "execution_count": null,
   "metadata": {},
   "outputs": [],
   "source": []
  }
 ],
 "metadata": {
  "kernelspec": {
   "display_name": "Python 3",
   "language": "python",
   "name": "python3"
  },
  "language_info": {
   "codemirror_mode": {
    "name": "ipython",
    "version": 3
   },
   "file_extension": ".py",
   "mimetype": "text/x-python",
   "name": "python",
   "nbconvert_exporter": "python",
   "pygments_lexer": "ipython3",
   "version": "3.7.3"
  }
 },
 "nbformat": 4,
 "nbformat_minor": 4
}
